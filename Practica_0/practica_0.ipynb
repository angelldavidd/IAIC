{
 "cells": [
  {
   "cell_type": "code",
   "execution_count": 6,
   "metadata": {},
   "outputs": [
    {
     "ename": "NameError",
     "evalue": "name 'sin' is not defined",
     "output_type": "error",
     "traceback": [
      "\u001b[0;31m---------------------------------------------------------------------------\u001b[0m",
      "\u001b[0;31mNameError\u001b[0m                                 Traceback (most recent call last)",
      "Cell \u001b[0;32mIn[6], line 12\u001b[0m\n\u001b[1;32m      9\u001b[0m y \u001b[38;5;241m=\u001b[39m np\u001b[38;5;241m.\u001b[39mrandom\u001b[38;5;241m.\u001b[39mrand(\u001b[38;5;241m100\u001b[39m)\u001b[38;5;241m*\u001b[39m(\u001b[38;5;241m10000\u001b[39m) \u001b[38;5;66;03m##-10000 altura\u001b[39;00m\n\u001b[1;32m     11\u001b[0m z \u001b[38;5;241m=\u001b[39mnp\u001b[38;5;241m.\u001b[39marange(\u001b[38;5;241m0\u001b[39m,\u001b[38;5;241m100\u001b[39m,\u001b[38;5;241m1\u001b[39m)\n\u001b[0;32m---> 12\u001b[0m funcion \u001b[38;5;241m=\u001b[39m \u001b[38;5;28mabs\u001b[39m(sin(z))\n\u001b[1;32m     14\u001b[0m plt\u001b[38;5;241m.\u001b[39mplot(z,funcion)\n\u001b[1;32m     15\u001b[0m plt\u001b[38;5;241m.\u001b[39mscatter(x,y)\n",
      "\u001b[0;31mNameError\u001b[0m: name 'sin' is not defined"
     ]
    }
   ],
   "source": [
    "import matplotlib.pyplot as plt\n",
    "import numpy as np\n",
    "\n",
    "# import spicy\n",
    "\n",
    "\n",
    "x = np.random.rand(100) *100 ##100 anchura\n",
    "y = np.random.rand(100)*(10000) ##-10000 altura\n",
    "\n",
    "z =np.arange(0,100,1)\n",
    "funcion = abs(math.sin(z))\n",
    "\n",
    "plt.plot(z,funcion)\n",
    "plt.scatter(x,y)\n",
    "\n",
    "plt.show()"
   ]
  }
 ],
 "metadata": {
  "kernelspec": {
   "display_name": "base",
   "language": "python",
   "name": "python3"
  },
  "language_info": {
   "codemirror_mode": {
    "name": "ipython",
    "version": 3
   },
   "file_extension": ".py",
   "mimetype": "text/x-python",
   "name": "python",
   "nbconvert_exporter": "python",
   "pygments_lexer": "ipython3",
   "version": "3.11.5"
  }
 },
 "nbformat": 4,
 "nbformat_minor": 2
}
