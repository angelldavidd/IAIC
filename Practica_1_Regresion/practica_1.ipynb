{
 "cells": [
  {
   "cell_type": "code",
   "execution_count": 4,
   "metadata": {},
   "outputs": [],
   "source": [
    "import numpy as np \n",
    "import scipy\n",
    "import matplotlib.pyplot as plt\n",
    "from sklearn import linear_model"
   ]
  },
  {
   "cell_type": "code",
   "execution_count": 41,
   "metadata": {},
   "outputs": [
    {
     "name": "stdout",
     "output_type": "stream",
     "text": [
      "[0.85]\n",
      "51.310249058783015\n",
      "[ 51.31024906  52.16024906  53.01024906  53.86024906  54.71024906\n",
      "  55.56024906  56.41024906  57.26024906  58.11024906  58.96024906\n",
      "  59.81024906  60.66024906  61.51024906  62.36024906  63.21024906\n",
      "  64.06024906  64.91024906  65.76024906  66.61024906  67.46024906\n",
      "  68.31024906  69.16024906  70.01024906  70.86024906  71.71024906\n",
      "  72.56024906  73.41024906  74.26024906  75.11024906  75.96024906\n",
      "  76.81024906  77.66024906  78.51024906  79.36024906  80.21024906\n",
      "  81.06024906  81.91024906  82.76024906  83.61024906  84.46024906\n",
      "  85.31024906  86.16024906  87.01024906  87.86024906  88.71024906\n",
      "  89.56024906  90.41024906  91.26024906  92.11024906  92.96024906\n",
      "  93.81024906  94.66024906  95.51024906  96.36024906  97.21024906\n",
      "  98.06024906  98.91024906  99.76024906 100.61024906 101.46024906]\n"
     ]
    }
   ],
   "source": [
    "\n",
    "\n",
    "def generar_datos():\n",
    "    ## Valores de X\n",
    "    X= np.arange(0,60,1) # empieza en segundo 0 y termina en segundo 59\n",
    "\n",
    "    ## formula para Y Y= 0*85(*) + 60* + valor_aleatorio\n",
    "    Y= [0.85* x for x in X + 60 + np.random.uniform(-5.9, +5.9)]\n",
    "\n",
    "    return X, Y\n",
    "\n",
    "X,Y=generar_datos()\n",
    "\n",
    "def operaciones():\n",
    "    \n",
    "    X_entrantes= [[i] for i in X]\n",
    "    reg = linear_model.LinearRegression()\n",
    "    reg.fit(X_entrantes,Y)\n",
    "\n",
    "    print(reg.coef_)\n",
    "    print(reg.intercept_)\n",
    "    Y_aprendido= reg.predict(X_entrantes)\n",
    "    print(Y_aprendido)\n",
    "\n",
    "operaciones()"
   ]
  },
  {
   "cell_type": "code",
   "execution_count": 15,
   "metadata": {},
   "outputs": [
    {
     "data": {
      "text/plain": [
       "-4.566826030081593"
      ]
     },
     "execution_count": 15,
     "metadata": {},
     "output_type": "execute_result"
    }
   ],
   "source": []
  }
 ],
 "metadata": {
  "kernelspec": {
   "display_name": "base",
   "language": "python",
   "name": "python3"
  },
  "language_info": {
   "codemirror_mode": {
    "name": "ipython",
    "version": 3
   },
   "file_extension": ".py",
   "mimetype": "text/x-python",
   "name": "python",
   "nbconvert_exporter": "python",
   "pygments_lexer": "ipython3",
   "version": "3.11.7"
  }
 },
 "nbformat": 4,
 "nbformat_minor": 2
}
